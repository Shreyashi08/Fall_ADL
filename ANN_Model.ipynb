{
 "cells": [
  {
   "cell_type": "markdown",
   "id": "5a25c601",
   "metadata": {},
   "source": [
    "# ANN"
   ]
  },
  {
   "cell_type": "code",
   "execution_count": 1,
   "id": "76ea26c3",
   "metadata": {},
   "outputs": [],
   "source": [
    "import pandas as pd\n",
    "import numpy as np \n",
    "\n",
    "\n",
    "df = pd.read_csv(\"out.csv\")"
   ]
  },
  {
   "cell_type": "code",
   "execution_count": 2,
   "id": "06da0476",
   "metadata": {},
   "outputs": [
    {
     "data": {
      "text/html": [
       "<div>\n",
       "<style scoped>\n",
       "    .dataframe tbody tr th:only-of-type {\n",
       "        vertical-align: middle;\n",
       "    }\n",
       "\n",
       "    .dataframe tbody tr th {\n",
       "        vertical-align: top;\n",
       "    }\n",
       "\n",
       "    .dataframe thead th {\n",
       "        text-align: right;\n",
       "    }\n",
       "</style>\n",
       "<table border=\"1\" class=\"dataframe\">\n",
       "  <thead>\n",
       "    <tr style=\"text-align: right;\">\n",
       "      <th></th>\n",
       "      <th>Time(s)</th>\n",
       "      <th>acc_x(g)</th>\n",
       "      <th>acc_y(g)</th>\n",
       "      <th>acc_z(g)</th>\n",
       "      <th>gyr_x(°/s)</th>\n",
       "      <th>gyr_y(°/s)</th>\n",
       "      <th>gyr_z(°/s)</th>\n",
       "      <th>mag_x(G)</th>\n",
       "      <th>mag_y(G)</th>\n",
       "      <th>mag_z(G)</th>\n",
       "      <th>SVM(g)</th>\n",
       "      <th>yaw(°)</th>\n",
       "      <th>pitch(°)</th>\n",
       "      <th>roll(°)</th>\n",
       "      <th>Class</th>\n",
       "    </tr>\n",
       "  </thead>\n",
       "  <tbody>\n",
       "    <tr>\n",
       "      <th>0</th>\n",
       "      <td>0.000</td>\n",
       "      <td>1.22</td>\n",
       "      <td>-0.10</td>\n",
       "      <td>-0.14</td>\n",
       "      <td>3.20</td>\n",
       "      <td>-14.54</td>\n",
       "      <td>-9.74</td>\n",
       "      <td>81.93</td>\n",
       "      <td>-605.78</td>\n",
       "      <td>-321.0</td>\n",
       "      <td>1.23</td>\n",
       "      <td>106.19</td>\n",
       "      <td>73.58</td>\n",
       "      <td>10.55</td>\n",
       "      <td>0</td>\n",
       "    </tr>\n",
       "    <tr>\n",
       "      <th>1</th>\n",
       "      <td>0.030</td>\n",
       "      <td>0.89</td>\n",
       "      <td>-0.06</td>\n",
       "      <td>-0.09</td>\n",
       "      <td>7.86</td>\n",
       "      <td>26.99</td>\n",
       "      <td>-5.22</td>\n",
       "      <td>83.93</td>\n",
       "      <td>-608.65</td>\n",
       "      <td>-324.0</td>\n",
       "      <td>0.90</td>\n",
       "      <td>106.10</td>\n",
       "      <td>73.64</td>\n",
       "      <td>10.58</td>\n",
       "      <td>0</td>\n",
       "    </tr>\n",
       "    <tr>\n",
       "      <th>2</th>\n",
       "      <td>0.060</td>\n",
       "      <td>0.92</td>\n",
       "      <td>0.01</td>\n",
       "      <td>0.24</td>\n",
       "      <td>5.29</td>\n",
       "      <td>47.51</td>\n",
       "      <td>-12.45</td>\n",
       "      <td>82.93</td>\n",
       "      <td>-600.98</td>\n",
       "      <td>-329.0</td>\n",
       "      <td>0.95</td>\n",
       "      <td>106.79</td>\n",
       "      <td>72.51</td>\n",
       "      <td>10.92</td>\n",
       "      <td>0</td>\n",
       "    </tr>\n",
       "    <tr>\n",
       "      <th>3</th>\n",
       "      <td>0.089</td>\n",
       "      <td>0.98</td>\n",
       "      <td>0.08</td>\n",
       "      <td>0.53</td>\n",
       "      <td>5.57</td>\n",
       "      <td>26.99</td>\n",
       "      <td>-11.76</td>\n",
       "      <td>86.93</td>\n",
       "      <td>-591.40</td>\n",
       "      <td>-337.0</td>\n",
       "      <td>1.12</td>\n",
       "      <td>107.55</td>\n",
       "      <td>71.19</td>\n",
       "      <td>11.24</td>\n",
       "      <td>0</td>\n",
       "    </tr>\n",
       "    <tr>\n",
       "      <th>4</th>\n",
       "      <td>0.118</td>\n",
       "      <td>0.94</td>\n",
       "      <td>-0.04</td>\n",
       "      <td>0.38</td>\n",
       "      <td>0.90</td>\n",
       "      <td>-30.96</td>\n",
       "      <td>2.50</td>\n",
       "      <td>88.93</td>\n",
       "      <td>-595.23</td>\n",
       "      <td>-335.0</td>\n",
       "      <td>1.01</td>\n",
       "      <td>107.70</td>\n",
       "      <td>70.99</td>\n",
       "      <td>11.43</td>\n",
       "      <td>0</td>\n",
       "    </tr>\n",
       "  </tbody>\n",
       "</table>\n",
       "</div>"
      ],
      "text/plain": [
       "   Time(s)  acc_x(g)  acc_y(g)  acc_z(g)  gyr_x(°/s)  gyr_y(°/s)  gyr_z(°/s)  \\\n",
       "0    0.000      1.22     -0.10     -0.14        3.20      -14.54       -9.74   \n",
       "1    0.030      0.89     -0.06     -0.09        7.86       26.99       -5.22   \n",
       "2    0.060      0.92      0.01      0.24        5.29       47.51      -12.45   \n",
       "3    0.089      0.98      0.08      0.53        5.57       26.99      -11.76   \n",
       "4    0.118      0.94     -0.04      0.38        0.90      -30.96        2.50   \n",
       "\n",
       "   mag_x(G)  mag_y(G)  mag_z(G)  SVM(g)  yaw(°)  pitch(°)  roll(°)  Class  \n",
       "0     81.93   -605.78    -321.0    1.23  106.19     73.58    10.55      0  \n",
       "1     83.93   -608.65    -324.0    0.90  106.10     73.64    10.58      0  \n",
       "2     82.93   -600.98    -329.0    0.95  106.79     72.51    10.92      0  \n",
       "3     86.93   -591.40    -337.0    1.12  107.55     71.19    11.24      0  \n",
       "4     88.93   -595.23    -335.0    1.01  107.70     70.99    11.43      0  "
      ]
     },
     "execution_count": 2,
     "metadata": {},
     "output_type": "execute_result"
    }
   ],
   "source": [
    "df.head()"
   ]
  },
  {
   "cell_type": "code",
   "execution_count": 3,
   "id": "74ccd438",
   "metadata": {},
   "outputs": [
    {
     "data": {
      "text/plain": [
       "Index(['Time(s)', 'acc_x(g)', 'acc_y(g)', 'acc_z(g)', 'gyr_x(°/s)',\n",
       "       'gyr_y(°/s)', 'gyr_z(°/s)', 'mag_x(G)', 'mag_y(G)', 'mag_z(G)',\n",
       "       'SVM(g)', 'yaw(°)', 'pitch(°)', 'roll(°)', 'Class'],\n",
       "      dtype='object')"
      ]
     },
     "execution_count": 3,
     "metadata": {},
     "output_type": "execute_result"
    }
   ],
   "source": [
    "df.columns"
   ]
  },
  {
   "cell_type": "code",
   "execution_count": 4,
   "id": "45c34f47",
   "metadata": {},
   "outputs": [],
   "source": [
    "variables = ['Time(s)', 'acc_x(g)', 'acc_y(g)', 'acc_z(g)', 'gyr_x(°/s)',\n",
    "       'gyr_y(°/s)', 'gyr_z(°/s)', 'mag_x(G)', 'mag_y(G)', 'mag_z(G)',\n",
    "       'SVM(g)', 'yaw(°)', 'pitch(°)', 'roll(°)']\n",
    "target = 'Class'"
   ]
  },
  {
   "cell_type": "code",
   "execution_count": 5,
   "id": "9b8fa0ba",
   "metadata": {},
   "outputs": [
    {
     "name": "stdout",
     "output_type": "stream",
     "text": [
      "(115368, 14)\n",
      "(115368,)\n"
     ]
    }
   ],
   "source": [
    "X = df[variables]\n",
    "y = df[target]\n",
    "\n",
    "print(X.shape)\n",
    "print(y.shape)"
   ]
  },
  {
   "cell_type": "code",
   "execution_count": 6,
   "id": "85e0a8e6",
   "metadata": {},
   "outputs": [],
   "source": [
    "from sklearn.model_selection import train_test_split\n",
    "X_train, X_test, y_train, y_test = train_test_split(X, y, test_size = 0.20, stratify = y)"
   ]
  },
  {
   "cell_type": "code",
   "execution_count": 7,
   "id": "76d99b5b",
   "metadata": {},
   "outputs": [],
   "source": [
    "from imblearn.over_sampling import SMOTE\n",
    "smote = SMOTE(random_state=42)\n",
    "X_resampled, y_resampled = smote.fit_resample(X_train, y_train)"
   ]
  },
  {
   "cell_type": "code",
   "execution_count": 12,
   "id": "5ec240bd",
   "metadata": {},
   "outputs": [],
   "source": [
    "from sklearn.preprocessing import StandardScaler\n",
    "ss = StandardScaler()\n",
    "\n",
    "ss.fit(X_train[['Time(s)', 'acc_x(g)', 'acc_y(g)', 'acc_z(g)', 'gyr_x(°/s)',\n",
    "       'gyr_y(°/s)', 'gyr_z(°/s)', 'mag_x(G)', 'mag_y(G)', 'mag_z(G)',\n",
    "       'SVM(g)', 'yaw(°)', 'pitch(°)', 'roll(°)']])\n",
    "\n",
    "X_train = ss.transform(X_train[['Time(s)', 'acc_x(g)', 'acc_y(g)', 'acc_z(g)', 'gyr_x(°/s)',\n",
    "       'gyr_y(°/s)', 'gyr_z(°/s)', 'mag_x(G)', 'mag_y(G)', 'mag_z(G)',\n",
    "       'SVM(g)', 'yaw(°)', 'pitch(°)', 'roll(°)']])"
   ]
  },
  {
   "cell_type": "code",
   "execution_count": 13,
   "id": "0bae22b3",
   "metadata": {},
   "outputs": [],
   "source": [
    "X_test = ss.transform(X_test[['Time(s)', 'acc_x(g)', 'acc_y(g)', 'acc_z(g)', 'gyr_x(°/s)',\n",
    "       'gyr_y(°/s)', 'gyr_z(°/s)', 'mag_x(G)', 'mag_y(G)', 'mag_z(G)',\n",
    "       'SVM(g)', 'yaw(°)', 'pitch(°)', 'roll(°)']])"
   ]
  },
  {
   "cell_type": "code",
   "execution_count": 18,
   "id": "e5070dbc",
   "metadata": {},
   "outputs": [
    {
     "name": "stdout",
     "output_type": "stream",
     "text": [
      "[0.9643165547786847, 0.9647130343474537, 0.96445405645206, 0.9635955305403832, 0.9643424439940844, 0.9655765443399629, 0.9663318247047136, 0.960869083250194, 0.959075962308989, 0.9659380894263841, 0.9662263835479018, 0.9556967292701195, 0.9681084641563289, 0.965107933528405, 0.9666805845511482, 0.9673777703992695, 0.9681135455422352, 0.9646817476158793, 0.9616413916146298, 0.9671517671517671, 0.9642078538510361, 0.9617311822036232, 0.9633990558178284, 0.9634971707533562, 0.9627496053396847, 0.9608625755307943, 0.9674798994280662, 0.9618827203524524, 0.9675777359743277, 0.9686620689655172]\n"
     ]
    }
   ],
   "source": [
    "import warnings\n",
    "warnings.filterwarnings('ignore')\n",
    " \n",
    "#Importing Keras and Tensorflow for Deep Learning\n",
    "from keras.wrappers.scikit_learn import KerasClassifier, KerasRegressor\n",
    "import eli5\n",
    "from eli5.sklearn import PermutationImportance\n",
    "import tensorflow as tf\n",
    "import keras \n",
    "from keras.models import Sequential\n",
    "from keras.layers import Dense, Dropout\n",
    "from keras.callbacks import EarlyStopping\n",
    "\n",
    "#Importing other libraries\n",
    "from sklearn.preprocessing import StandardScaler\n",
    "from sklearn.model_selection import train_test_split\n",
    "from imblearn.over_sampling import SMOTE\n",
    "\n",
    "#Importing libraries for model evaluation \n",
    "from sklearn.metrics import f1_score\n",
    "from sklearn.metrics import confusion_matrix\n",
    "from sklearn.metrics import classification_report\n",
    "\n",
    "\n",
    "\n",
    "from sklearn.metrics import f1_score\n",
    "callbacks = [EarlyStopping(monitor='val_loss',mode='min',patience=2, restore_best_weights = True)]\n",
    "results_control_accuracy = []\n",
    "for i in range(0,30):\n",
    "    model = Sequential()\n",
    "    model.add(Dense(64, input_dim=len(X.columns),kernel_initializer = 'he_normal', activation='relu'))\n",
    "    model.add(Dropout(0.5))\n",
    "    model.add(Dense(64, input_dim=len(X.columns),kernel_initializer = 'he_normal', activation='relu'))\n",
    "    model.add(Dropout(0.5))\n",
    "    model.add(Dense(1, activation='sigmoid'))\n",
    "    \n",
    "    model.compile(keras.optimizers.Adam(lr=0.001),'binary_crossentropy',metrics=['accuracy'])\n",
    "\n",
    "    history = model.fit(X_resampled, y_resampled, callbacks = callbacks,\n",
    "          epochs=30,validation_split = 0.2,\n",
    "          batch_size=256, verbose = 0)\n",
    "\n",
    "    y_test_pred= model.predict(X_test) > 0.5\n",
    "    \n",
    "    f1 = f1_score(y_test, y_test_pred)\n",
    "    \n",
    "    results_control_accuracy.append(f1)\n",
    "    \n",
    "print(results_control_accuracy)"
   ]
  },
  {
   "cell_type": "code",
   "execution_count": 19,
   "id": "8227c48b",
   "metadata": {},
   "outputs": [
    {
     "name": "stdout",
     "output_type": "stream",
     "text": [
      "Mean Control Accuracy: 0    0.964402\n",
      "dtype: float64\n"
     ]
    }
   ],
   "source": [
    "results_control_accuracy = pd.DataFrame(results_control_accuracy)\n",
    "mean_control_accuracy = results_control_accuracy.mean()\n",
    "print(\"Mean Control Accuracy: {}\".format(mean_control_accuracy))"
   ]
  },
  {
   "cell_type": "code",
   "execution_count": 20,
   "id": "d6acd3ac",
   "metadata": {},
   "outputs": [
    {
     "name": "stdout",
     "output_type": "stream",
     "text": [
      "Standard Deviation of Control Accuracy Results: 0    0.002958\n",
      "dtype: float64\n"
     ]
    }
   ],
   "source": [
    "std_control_accuracy = results_control_accuracy.std()\n",
    "print(\"Standard Deviation of Control Accuracy Results: {}\".format(std_control_accuracy))\n"
   ]
  },
  {
   "cell_type": "code",
   "execution_count": 21,
   "id": "84552758",
   "metadata": {},
   "outputs": [
    {
     "data": {
      "image/png": "[encoded data removed]",
      "text/plain": [
       "<Figure size 432x288 with 1 Axes>"
      ]
     },
     "metadata": {
      "needs_background": "light"
     },
     "output_type": "display_data"
    }
   ],
   "source": [
    "import matplotlib.pyplot as plt\n",
    "\n",
    "plt.plot(history.history['accuracy'])\n",
    "plt.plot(history.history['val_accuracy'])\n",
    "plt.title('model accuracy')\n",
    "plt.ylabel('accuracy')\n",
    "plt.xlabel('epoch')\n",
    "plt.legend(['train', 'test'], loc='lower right')\n",
    "plt.show()"
   ]
  },
  {
   "cell_type": "code",
   "execution_count": 22,
   "id": "07cd7b72",
   "metadata": {},
   "outputs": [
    {
     "data": {
      "image/png": "[encoded data removed]",
      "text/plain": [
       "<Figure size 432x288 with 1 Axes>"
      ]
     },
     "metadata": {
      "needs_background": "light"
     },
     "output_type": "display_data"
    }
   ],
   "source": [
    "plt.plot(history.history['loss'])\n",
    "plt.plot(history.history['val_loss'])\n",
    "plt.title('model loss')\n",
    "plt.ylabel('loss')\n",
    "plt.xlabel('epoch')\n",
    "plt.legend(['train', 'test'], loc='upper right')\n",
    "plt.show()"
   ]
  },
  {
   "cell_type": "code",
   "execution_count": 23,
   "id": "e43c7e64",
   "metadata": {},
   "outputs": [
    {
     "name": "stdout",
     "output_type": "stream",
     "text": [
      "[[ 4381   358]\n",
      " [  778 17557]]\n"
     ]
    }
   ],
   "source": [
    "cm = confusion_matrix(y_test, y_test_pred)\n",
    "print(cm)"
   ]
  },
  {
   "cell_type": "code",
   "execution_count": 24,
   "id": "0ea770ad",
   "metadata": {},
   "outputs": [
    {
     "name": "stdout",
     "output_type": "stream",
     "text": [
      "              precision    recall  f1-score   support\n",
      "\n",
      "           0       0.85      0.92      0.89      4739\n",
      "           1       0.98      0.96      0.97     18335\n",
      "\n",
      "    accuracy                           0.95     23074\n",
      "   macro avg       0.91      0.94      0.93     23074\n",
      "weighted avg       0.95      0.95      0.95     23074\n",
      "\n"
     ]
    }
   ],
   "source": [
    "print(classification_report(y_test, y_test_pred))"
   ]
  },
  {
   "cell_type": "code",
   "execution_count": 25,
   "id": "f87f4d45",
   "metadata": {},
   "outputs": [
    {
     "name": "stdout",
     "output_type": "stream",
     "text": [
      "0.9967136560069094\n"
     ]
    }
   ],
   "source": [
    "auc = roc_auc_score(y_test, y_pred)\n",
    "\n",
    "\n",
    "print(auc)"
   ]
  },
  {
   "cell_type": "code",
   "execution_count": 32,
   "id": "7439af6d",
   "metadata": {},
   "outputs": [
    {
     "name": "stdout",
     "output_type": "stream",
     "text": [
      "The variance of the Time(s) before scaling is: 68244322.82658425\n",
      "The variance of the acc_x(g) before scaling is: 0.3878275100102946\n",
      "The variance of the acc_y(g) before scaling is: 0.31983020891094616\n",
      "The variance of the acc_z(g) before scaling is: 0.34293864213427355\n",
      "The variance of the gyr_x(°/s) before scaling is: 1176.0464658101216\n",
      "The variance of the gyr_y(°/s) before scaling is: 3359.6695256905655\n",
      "The variance of the gyr_z(°/s) before scaling is: 1013.7066858732238\n",
      "The variance of the mag_x(G) before scaling is: 67217.36981894223\n",
      "The variance of the mag_y(G) before scaling is: 54367.529752997965\n",
      "The variance of the mag_z(G) before scaling is: 37641.635465841406\n",
      "The variance of the SVM(g) before scaling is: 0.17340088608274487\n",
      "The variance of the yaw(°) before scaling is: 14998.573954356318\n",
      "The variance of the pitch(°) before scaling is: 1603.6675373295072\n",
      "The variance of the roll(°) before scaling is: 1247.6242205369724\n"
     ]
    }
   ],
   "source": [
    "for col in X.columns:\n",
    "    print(\"The variance of the {} before scaling is: {}\" .format(col, X[col].var()))"
   ]
  },
  {
   "cell_type": "code",
   "execution_count": 33,
   "id": "c5001720",
   "metadata": {},
   "outputs": [],
   "source": [
    "X = pd.DataFrame(ss.fit_transform(X), columns = X.columns)"
   ]
  },
  {
   "cell_type": "code",
   "execution_count": 34,
   "id": "57cdac86",
   "metadata": {},
   "outputs": [
    {
     "name": "stdout",
     "output_type": "stream",
     "text": [
      "The variance of the Time(s) before scaling is: 1.0000086679899987\n",
      "The variance of the acc_x(g) before scaling is: 1.0000086679900229\n",
      "The variance of the acc_y(g) before scaling is: 1.0000086679899376\n",
      "The variance of the acc_z(g) before scaling is: 1.0000086679898024\n",
      "The variance of the gyr_x(°/s) before scaling is: 1.0000086679898401\n",
      "The variance of the gyr_y(°/s) before scaling is: 1.0000086679898053\n",
      "The variance of the gyr_z(°/s) before scaling is: 1.0000086679900522\n",
      "The variance of the mag_x(G) before scaling is: 1.00000866798996\n",
      "The variance of the mag_y(G) before scaling is: 1.000008667989964\n",
      "The variance of the mag_z(G) before scaling is: 1.0000086679899893\n",
      "The variance of the SVM(g) before scaling is: 1.0000086679902278\n",
      "The variance of the yaw(°) before scaling is: 1.000008667989979\n",
      "The variance of the pitch(°) before scaling is: 1.0000086679899374\n",
      "The variance of the roll(°) before scaling is: 1.0000086679899678\n"
     ]
    }
   ],
   "source": [
    "for col in X.columns:\n",
    "    print(\"The variance of the {} before scaling is: {}\" .format(col, X[col].var()))"
   ]
  }
 ],
 "metadata": {
  "kernelspec": {
   "display_name": "Python 3",
   "language": "python",
   "name": "python3"
  },
  "language_info": {
   "codemirror_mode": {
    "name": "ipython",
    "version": 3
   },
   "file_extension": ".py",
   "mimetype": "text/x-python",
   "name": "python",
   "nbconvert_exporter": "python",
   "pygments_lexer": "ipython3",
   "version": "3.8.10"
  }
 },
 "nbformat": 4,
 "nbformat_minor": 5
}
