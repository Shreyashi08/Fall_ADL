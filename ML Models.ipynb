{
 "cells": [
  {
   "cell_type": "markdown",
   "id": "d5374e7b",
   "metadata": {},
   "source": [
    "# Machine Learning"
   ]
  },
  {
   "cell_type": "code",
   "execution_count": 48,
   "id": "76ea26c3",
   "metadata": {},
   "outputs": [],
   "source": [
    "import pandas as pd\n",
    "import numpy as np \n",
    "\n",
    "\n",
    "df = pd.read_csv(\"out.csv\")"
   ]
  },
  {
   "cell_type": "code",
   "execution_count": 49,
   "id": "06da0476",
   "metadata": {},
   "outputs": [
    {
     "data": {
      "text/html": [
       "<div>\n",
       "<style scoped>\n",
       "    .dataframe tbody tr th:only-of-type {\n",
       "        vertical-align: middle;\n",
       "    }\n",
       "\n",
       "    .dataframe tbody tr th {\n",
       "        vertical-align: top;\n",
       "    }\n",
       "\n",
       "    .dataframe thead th {\n",
       "        text-align: right;\n",
       "    }\n",
       "</style>\n",
       "<table border=\"1\" class=\"dataframe\">\n",
       "  <thead>\n",
       "    <tr style=\"text-align: right;\">\n",
       "      <th></th>\n",
       "      <th>Time(s)</th>\n",
       "      <th>acc_x(g)</th>\n",
       "      <th>acc_y(g)</th>\n",
       "      <th>acc_z(g)</th>\n",
       "      <th>gyr_x(°/s)</th>\n",
       "      <th>gyr_y(°/s)</th>\n",
       "      <th>gyr_z(°/s)</th>\n",
       "      <th>mag_x(G)</th>\n",
       "      <th>mag_y(G)</th>\n",
       "      <th>mag_z(G)</th>\n",
       "      <th>SVM(g)</th>\n",
       "      <th>yaw(°)</th>\n",
       "      <th>pitch(°)</th>\n",
       "      <th>roll(°)</th>\n",
       "      <th>Class</th>\n",
       "    </tr>\n",
       "  </thead>\n",
       "  <tbody>\n",
       "    <tr>\n",
       "      <th>0</th>\n",
       "      <td>0.00</td>\n",
       "      <td>-0.86</td>\n",
       "      <td>0.06</td>\n",
       "      <td>0.41</td>\n",
       "      <td>-18.57</td>\n",
       "      <td>31.65</td>\n",
       "      <td>1.32</td>\n",
       "      <td>320.73</td>\n",
       "      <td>-179.24</td>\n",
       "      <td>-376.0</td>\n",
       "      <td>0.95</td>\n",
       "      <td>-102.51</td>\n",
       "      <td>-26.65</td>\n",
       "      <td>0.00</td>\n",
       "      <td>0</td>\n",
       "    </tr>\n",
       "    <tr>\n",
       "      <th>1</th>\n",
       "      <td>0.03</td>\n",
       "      <td>-0.84</td>\n",
       "      <td>0.09</td>\n",
       "      <td>0.45</td>\n",
       "      <td>-18.30</td>\n",
       "      <td>24.90</td>\n",
       "      <td>-12.80</td>\n",
       "      <td>319.73</td>\n",
       "      <td>-176.37</td>\n",
       "      <td>-378.0</td>\n",
       "      <td>0.96</td>\n",
       "      <td>-102.70</td>\n",
       "      <td>-27.90</td>\n",
       "      <td>-0.42</td>\n",
       "      <td>0</td>\n",
       "    </tr>\n",
       "    <tr>\n",
       "      <th>2</th>\n",
       "      <td>0.06</td>\n",
       "      <td>-0.81</td>\n",
       "      <td>0.16</td>\n",
       "      <td>0.45</td>\n",
       "      <td>-13.98</td>\n",
       "      <td>10.30</td>\n",
       "      <td>-28.03</td>\n",
       "      <td>312.74</td>\n",
       "      <td>-170.61</td>\n",
       "      <td>-379.0</td>\n",
       "      <td>0.94</td>\n",
       "      <td>-102.46</td>\n",
       "      <td>-28.84</td>\n",
       "      <td>-0.99</td>\n",
       "      <td>0</td>\n",
       "    </tr>\n",
       "    <tr>\n",
       "      <th>3</th>\n",
       "      <td>0.09</td>\n",
       "      <td>-0.75</td>\n",
       "      <td>0.30</td>\n",
       "      <td>0.37</td>\n",
       "      <td>-14.05</td>\n",
       "      <td>-6.61</td>\n",
       "      <td>-29.77</td>\n",
       "      <td>308.74</td>\n",
       "      <td>-170.61</td>\n",
       "      <td>-376.0</td>\n",
       "      <td>0.89</td>\n",
       "      <td>-102.05</td>\n",
       "      <td>-29.21</td>\n",
       "      <td>-1.49</td>\n",
       "      <td>0</td>\n",
       "    </tr>\n",
       "    <tr>\n",
       "      <th>4</th>\n",
       "      <td>0.12</td>\n",
       "      <td>-0.70</td>\n",
       "      <td>0.37</td>\n",
       "      <td>0.30</td>\n",
       "      <td>-18.64</td>\n",
       "      <td>-12.45</td>\n",
       "      <td>-26.78</td>\n",
       "      <td>301.75</td>\n",
       "      <td>-166.78</td>\n",
       "      <td>-378.0</td>\n",
       "      <td>0.85</td>\n",
       "      <td>-101.76</td>\n",
       "      <td>-29.26</td>\n",
       "      <td>-1.97</td>\n",
       "      <td>0</td>\n",
       "    </tr>\n",
       "  </tbody>\n",
       "</table>\n",
       "</div>"
      ],
      "text/plain": [
       "   Time(s)  acc_x(g)  acc_y(g)  acc_z(g)  gyr_x(°/s)  gyr_y(°/s)  gyr_z(°/s)  \\\n",
       "0     0.00     -0.86      0.06      0.41      -18.57       31.65        1.32   \n",
       "1     0.03     -0.84      0.09      0.45      -18.30       24.90      -12.80   \n",
       "2     0.06     -0.81      0.16      0.45      -13.98       10.30      -28.03   \n",
       "3     0.09     -0.75      0.30      0.37      -14.05       -6.61      -29.77   \n",
       "4     0.12     -0.70      0.37      0.30      -18.64      -12.45      -26.78   \n",
       "\n",
       "   mag_x(G)  mag_y(G)  mag_z(G)  SVM(g)  yaw(°)  pitch(°)  roll(°)  Class  \n",
       "0    320.73   -179.24    -376.0    0.95 -102.51    -26.65     0.00      0  \n",
       "1    319.73   -176.37    -378.0    0.96 -102.70    -27.90    -0.42      0  \n",
       "2    312.74   -170.61    -379.0    0.94 -102.46    -28.84    -0.99      0  \n",
       "3    308.74   -170.61    -376.0    0.89 -102.05    -29.21    -1.49      0  \n",
       "4    301.75   -166.78    -378.0    0.85 -101.76    -29.26    -1.97      0  "
      ]
     },
     "execution_count": 49,
     "metadata": {},
     "output_type": "execute_result"
    }
   ],
   "source": [
    "df.head()"
   ]
  },
  {
   "cell_type": "code",
   "execution_count": 50,
   "id": "74ccd438",
   "metadata": {},
   "outputs": [
    {
     "data": {
      "text/plain": [
       "Index(['Time(s)', 'acc_x(g)', 'acc_y(g)', 'acc_z(g)', 'gyr_x(°/s)',\n",
       "       'gyr_y(°/s)', 'gyr_z(°/s)', 'mag_x(G)', 'mag_y(G)', 'mag_z(G)',\n",
       "       'SVM(g)', 'yaw(°)', 'pitch(°)', 'roll(°)', 'Class'],\n",
       "      dtype='object')"
      ]
     },
     "execution_count": 50,
     "metadata": {},
     "output_type": "execute_result"
    }
   ],
   "source": [
    "df.columns"
   ]
  },
  {
   "cell_type": "code",
   "execution_count": 51,
   "id": "45c34f47",
   "metadata": {},
   "outputs": [],
   "source": [
    "variables = ['Time(s)', 'acc_x(g)', 'acc_y(g)', 'acc_z(g)', 'gyr_x(°/s)',\n",
    "       'gyr_y(°/s)', 'gyr_z(°/s)', 'mag_x(G)', 'mag_y(G)', 'mag_z(G)',\n",
    "       'SVM(g)', 'yaw(°)', 'pitch(°)', 'roll(°)']\n",
    "target = 'Class'"
   ]
  },
  {
   "cell_type": "code",
   "execution_count": 52,
   "id": "9b8fa0ba",
   "metadata": {},
   "outputs": [
    {
     "name": "stdout",
     "output_type": "stream",
     "text": [
      "(115368, 14)\n",
      "(115368,)\n"
     ]
    }
   ],
   "source": [
    "X = df[variables]\n",
    "y = df[target]\n",
    "\n",
    "print(X.shape)\n",
    "print(y.shape)"
   ]
  },
  {
   "cell_type": "markdown",
   "id": "f40a2264",
   "metadata": {},
   "source": [
    "## Train and Test Split"
   ]
  },
  {
   "cell_type": "code",
   "execution_count": 53,
   "id": "85e0a8e6",
   "metadata": {},
   "outputs": [],
   "source": [
    "from sklearn.model_selection import train_test_split\n",
    "X_train, X_test, y_train, y_test = train_test_split(X, y, test_size = 0.20, stratify = y)"
   ]
  },
  {
   "cell_type": "code",
   "execution_count": 54,
   "id": "76d99b5b",
   "metadata": {},
   "outputs": [],
   "source": [
    "# Handling Imbalanced Dataset\n",
    "\n",
    "from imblearn.over_sampling import SMOTE\n",
    "smote = SMOTE(random_state=42)\n",
    "\n",
    "X_resampled, y_resampled = smote.fit_resample(X_train, y_train)"
   ]
  },
  {
   "cell_type": "code",
   "execution_count": 55,
   "id": "9b7a7edb",
   "metadata": {},
   "outputs": [],
   "source": [
    "from imblearn.over_sampling import RandomOverSampler \n",
    "from sklearn.linear_model import LogisticRegression\n",
    "from sklearn.metrics import confusion_matrix\n",
    "from sklearn.metrics import classification_report\n",
    "from sklearn.metrics import roc_auc_score\n",
    "from sklearn.tree import DecisionTreeClassifier\n",
    "from sklearn.svm import SVC\n",
    "from sklearn.neighbors import KNeighborsClassifier\n",
    "from sklearn.ensemble import RandomForestClassifier"
   ]
  },
  {
   "cell_type": "markdown",
   "id": "dc1ca7cb",
   "metadata": {},
   "source": [
    "# Logistic Regression"
   ]
  },
  {
   "cell_type": "code",
   "execution_count": 56,
   "id": "6e195a24",
   "metadata": {},
   "outputs": [],
   "source": [
    "model = LogisticRegression(solver ='liblinear',random_state=42)"
   ]
  },
  {
   "cell_type": "code",
   "execution_count": 57,
   "id": "b738378f",
   "metadata": {},
   "outputs": [],
   "source": [
    "model.fit(X_resampled, y_resampled)\n",
    "y_pred = model.predict(X_test)\n",
    "\n",
    "\n",
    "cm = confusion_matrix(y_test, y_pred)\n",
    "cr = classification_report(y_test, y_pred)\n",
    "auc = roc_auc_score(y_test, y_pred)"
   ]
  },
  {
   "cell_type": "code",
   "execution_count": 58,
   "id": "867d7c2f",
   "metadata": {
    "scrolled": true
   },
   "outputs": [
    {
     "name": "stdout",
     "output_type": "stream",
     "text": [
      "0.7255636393161825\n"
     ]
    }
   ],
   "source": [
    "print(auc)"
   ]
  },
  {
   "cell_type": "code",
   "execution_count": 59,
   "id": "a89f8323",
   "metadata": {},
   "outputs": [
    {
     "name": "stdout",
     "output_type": "stream",
     "text": [
      "[[ 3904   835]\n",
      " [ 6833 11502]]\n"
     ]
    }
   ],
   "source": [
    "print(cm)"
   ]
  },
  {
   "cell_type": "code",
   "execution_count": 60,
   "id": "d242b60a",
   "metadata": {},
   "outputs": [
    {
     "name": "stdout",
     "output_type": "stream",
     "text": [
      "              precision    recall  f1-score   support\n",
      "\n",
      "           0       0.36      0.82      0.50      4739\n",
      "           1       0.93      0.63      0.75     18335\n",
      "\n",
      "    accuracy                           0.67     23074\n",
      "   macro avg       0.65      0.73      0.63     23074\n",
      "weighted avg       0.82      0.67      0.70     23074\n",
      "\n"
     ]
    }
   ],
   "source": [
    "print(cr)"
   ]
  },
  {
   "cell_type": "markdown",
   "id": "669b84a3",
   "metadata": {},
   "source": [
    "# Decision Tree"
   ]
  },
  {
   "cell_type": "code",
   "execution_count": 61,
   "id": "62fcc1d0",
   "metadata": {},
   "outputs": [],
   "source": [
    "model = DecisionTreeClassifier()"
   ]
  },
  {
   "cell_type": "code",
   "execution_count": 62,
   "id": "a9880c91",
   "metadata": {},
   "outputs": [],
   "source": [
    "model.fit(X_resampled, y_resampled)\n",
    "y_pred = model.predict(X_test)\n",
    "\n",
    "\n",
    "cm = confusion_matrix(y_test, y_pred)\n",
    "cr = classification_report(y_test, y_pred)\n",
    "auc = roc_auc_score(y_test, y_pred)"
   ]
  },
  {
   "cell_type": "code",
   "execution_count": 63,
   "id": "99334ba5",
   "metadata": {},
   "outputs": [
    {
     "name": "stdout",
     "output_type": "stream",
     "text": [
      "0.9760240254396487\n"
     ]
    }
   ],
   "source": [
    "print(auc)"
   ]
  },
  {
   "cell_type": "code",
   "execution_count": 64,
   "id": "25cc87e5",
   "metadata": {},
   "outputs": [
    {
     "name": "stdout",
     "output_type": "stream",
     "text": [
      "[[ 4565   174]\n",
      " [  206 18129]]\n"
     ]
    }
   ],
   "source": [
    "print(cm)"
   ]
  },
  {
   "cell_type": "code",
   "execution_count": 65,
   "id": "c20adb83",
   "metadata": {},
   "outputs": [
    {
     "name": "stdout",
     "output_type": "stream",
     "text": [
      "              precision    recall  f1-score   support\n",
      "\n",
      "           0       0.96      0.96      0.96      4739\n",
      "           1       0.99      0.99      0.99     18335\n",
      "\n",
      "    accuracy                           0.98     23074\n",
      "   macro avg       0.97      0.98      0.97     23074\n",
      "weighted avg       0.98      0.98      0.98     23074\n",
      "\n"
     ]
    }
   ],
   "source": [
    "print(cr)"
   ]
  },
  {
   "cell_type": "markdown",
   "id": "eb384020",
   "metadata": {},
   "source": [
    "# SVM "
   ]
  },
  {
   "cell_type": "code",
   "execution_count": 66,
   "id": "c1ad2e8c",
   "metadata": {},
   "outputs": [],
   "source": [
    "model = SVC()"
   ]
  },
  {
   "cell_type": "code",
   "execution_count": 67,
   "id": "9144d656",
   "metadata": {},
   "outputs": [],
   "source": [
    "model.fit(X_resampled, y_resampled)\n",
    "y_pred = model.predict(X_test)\n",
    "\n",
    "\n",
    "cm = confusion_matrix(y_test, y_pred)\n",
    "cr = classification_report(y_test, y_pred)\n",
    "auc = roc_auc_score(y_test, y_pred)"
   ]
  },
  {
   "cell_type": "code",
   "execution_count": 68,
   "id": "6cd90a5c",
   "metadata": {},
   "outputs": [
    {
     "name": "stdout",
     "output_type": "stream",
     "text": [
      "0.7325024529700431\n"
     ]
    }
   ],
   "source": [
    "print(auc)"
   ]
  },
  {
   "cell_type": "code",
   "execution_count": 69,
   "id": "321cf71e",
   "metadata": {},
   "outputs": [
    {
     "name": "stdout",
     "output_type": "stream",
     "text": [
      "[[ 4244   495]\n",
      " [ 7894 10441]]\n"
     ]
    }
   ],
   "source": [
    "print(cm)"
   ]
  },
  {
   "cell_type": "code",
   "execution_count": 70,
   "id": "5ef0b912",
   "metadata": {},
   "outputs": [
    {
     "name": "stdout",
     "output_type": "stream",
     "text": [
      "              precision    recall  f1-score   support\n",
      "\n",
      "           0       0.35      0.90      0.50      4739\n",
      "           1       0.95      0.57      0.71     18335\n",
      "\n",
      "    accuracy                           0.64     23074\n",
      "   macro avg       0.65      0.73      0.61     23074\n",
      "weighted avg       0.83      0.64      0.67     23074\n",
      "\n"
     ]
    }
   ],
   "source": [
    "print(cr)"
   ]
  },
  {
   "cell_type": "markdown",
   "id": "dfcfe880",
   "metadata": {},
   "source": [
    "# KNN"
   ]
  },
  {
   "cell_type": "code",
   "execution_count": 71,
   "id": "e4fc46d9",
   "metadata": {},
   "outputs": [],
   "source": [
    "model = KNeighborsClassifier(n_neighbors = 3)"
   ]
  },
  {
   "cell_type": "code",
   "execution_count": 72,
   "id": "39f8624e",
   "metadata": {},
   "outputs": [],
   "source": [
    "model.fit(X_resampled, y_resampled)\n",
    "y_pred = model.predict(X_test)\n",
    "\n",
    "cm = confusion_matrix(y_test, y_pred)\n",
    "cr = classification_report(y_test, y_pred)\n",
    "auc = roc_auc_score(y_test, y_pred)"
   ]
  },
  {
   "cell_type": "code",
   "execution_count": 73,
   "id": "8ee19fa8",
   "metadata": {},
   "outputs": [
    {
     "name": "stdout",
     "output_type": "stream",
     "text": [
      "0.9959500890584503\n"
     ]
    }
   ],
   "source": [
    "print(auc)"
   ]
  },
  {
   "cell_type": "code",
   "execution_count": 74,
   "id": "465a0c5c",
   "metadata": {},
   "outputs": [
    {
     "name": "stdout",
     "output_type": "stream",
     "text": [
      "[[ 4720    19]\n",
      " [   75 18260]]\n"
     ]
    }
   ],
   "source": [
    "print(cm)"
   ]
  },
  {
   "cell_type": "code",
   "execution_count": 75,
   "id": "d9d8417a",
   "metadata": {},
   "outputs": [
    {
     "name": "stdout",
     "output_type": "stream",
     "text": [
      "              precision    recall  f1-score   support\n",
      "\n",
      "           0       0.98      1.00      0.99      4739\n",
      "           1       1.00      1.00      1.00     18335\n",
      "\n",
      "    accuracy                           1.00     23074\n",
      "   macro avg       0.99      1.00      0.99     23074\n",
      "weighted avg       1.00      1.00      1.00     23074\n",
      "\n"
     ]
    }
   ],
   "source": [
    "print(cr)"
   ]
  },
  {
   "cell_type": "markdown",
   "id": "626d8929",
   "metadata": {},
   "source": [
    "# Random Forest"
   ]
  },
  {
   "cell_type": "code",
   "execution_count": 30,
   "id": "81851fdb",
   "metadata": {},
   "outputs": [],
   "source": [
    "model = RandomForestClassifier()"
   ]
  },
  {
   "cell_type": "code",
   "execution_count": 31,
   "id": "fbd4f8fd",
   "metadata": {},
   "outputs": [],
   "source": [
    "model.fit(X_resampled, y_resampled)\n",
    "y_pred = model.predict(X_test)\n",
    "\n",
    "\n",
    "cm = confusion_matrix(y_test, y_pred)\n",
    "cr = classification_report(y_test, y_pred)\n",
    "auc = roc_auc_score(y_test, y_pred)"
   ]
  },
  {
   "cell_type": "code",
   "execution_count": 32,
   "id": "b9a72ef7",
   "metadata": {},
   "outputs": [
    {
     "name": "stdout",
     "output_type": "stream",
     "text": [
      "0.997353847956311\n"
     ]
    }
   ],
   "source": [
    "print(auc)"
   ]
  },
  {
   "cell_type": "code",
   "execution_count": 33,
   "id": "c5cf198d",
   "metadata": {},
   "outputs": [
    {
     "name": "stdout",
     "output_type": "stream",
     "text": [
      "[[ 4724    15]\n",
      " [   39 18296]]\n"
     ]
    }
   ],
   "source": [
    "print(cm)"
   ]
  },
  {
   "cell_type": "code",
   "execution_count": 34,
   "id": "5f57d9ad",
   "metadata": {},
   "outputs": [
    {
     "name": "stdout",
     "output_type": "stream",
     "text": [
      "              precision    recall  f1-score   support\n",
      "\n",
      "           0       0.99      1.00      0.99      4739\n",
      "           1       1.00      1.00      1.00     18335\n",
      "\n",
      "    accuracy                           1.00     23074\n",
      "   macro avg       1.00      1.00      1.00     23074\n",
      "weighted avg       1.00      1.00      1.00     23074\n",
      "\n"
     ]
    }
   ],
   "source": [
    "print(cr)"
   ]
  },
  {
   "cell_type": "markdown",
   "id": "cc9365bb",
   "metadata": {},
   "source": [
    "# XGBoost"
   ]
  },
  {
   "cell_type": "code",
   "execution_count": 77,
   "id": "56bcdac1",
   "metadata": {},
   "outputs": [],
   "source": [
    "import warnings\n",
    "warnings.filterwarnings('ignore')"
   ]
  },
  {
   "cell_type": "code",
   "execution_count": 79,
   "id": "6f779650",
   "metadata": {},
   "outputs": [],
   "source": [
    "import xgboost as xgb"
   ]
  },
  {
   "cell_type": "code",
   "execution_count": 80,
   "id": "cd88b3d4",
   "metadata": {},
   "outputs": [],
   "source": [
    "clf_gbt = xgb.XGBClassifier(objective ='binary:logistic', colsample_bytree = 0.1,learning_rate = 0.1,\n",
    "                max_depth= 2, alpha= 5, eval_metric = 'error').fit(X_resampled, y_resampled)\n",
    "\n",
    "# Predict with a model\n",
    "gbt_preds = clf_gbt.predict(X_test)\n",
    "auc = roc_auc_score(y_test, y_pred)"
   ]
  },
  {
   "cell_type": "code",
   "execution_count": 81,
   "id": "96e53871",
   "metadata": {},
   "outputs": [
    {
     "name": "stdout",
     "output_type": "stream",
     "text": [
      "0.9959500890584503\n"
     ]
    }
   ],
   "source": [
    "print(auc)"
   ]
  },
  {
   "cell_type": "code",
   "execution_count": 82,
   "id": "0ac811b7",
   "metadata": {},
   "outputs": [
    {
     "name": "stdout",
     "output_type": "stream",
     "text": [
      "[[ 4458   281]\n",
      " [ 5409 12926]]\n"
     ]
    }
   ],
   "source": [
    "cm = confusion_matrix(y_test, gbt_preds)\n",
    "print(cm)"
   ]
  },
  {
   "cell_type": "code",
   "execution_count": 83,
   "id": "bdab53fa",
   "metadata": {},
   "outputs": [
    {
     "name": "stdout",
     "output_type": "stream",
     "text": [
      "              precision    recall  f1-score   support\n",
      "\n",
      "           0       0.45      0.94      0.61      4739\n",
      "           1       0.98      0.70      0.82     18335\n",
      "\n",
      "    accuracy                           0.75     23074\n",
      "   macro avg       0.72      0.82      0.72     23074\n",
      "weighted avg       0.87      0.75      0.78     23074\n",
      "\n"
     ]
    }
   ],
   "source": [
    "cr = classification_report(y_test, gbt_preds)\n",
    "print(cr)"
   ]
  }
 ],
 "metadata": {
  "kernelspec": {
   "display_name": "Python 3",
   "language": "python",
   "name": "python3"
  },
  "language_info": {
   "codemirror_mode": {
    "name": "ipython",
    "version": 3
   },
   "file_extension": ".py",
   "mimetype": "text/x-python",
   "name": "python",
   "nbconvert_exporter": "python",
   "pygments_lexer": "ipython3",
   "version": "3.8.10"
  }
 },
 "nbformat": 4,
 "nbformat_minor": 5
}
